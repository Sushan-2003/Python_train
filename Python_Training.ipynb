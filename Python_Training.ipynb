{
  "nbformat": 4,
  "nbformat_minor": 0,
  "metadata": {
    "colab": {
      "provenance": [],
      "authorship_tag": "ABX9TyPVU3n2vFgEfXs9x5UJ5Gh7",
      "include_colab_link": true
    },
    "kernelspec": {
      "name": "python3",
      "display_name": "Python 3"
    },
    "language_info": {
      "name": "python"
    }
  },
  "cells": [
    {
      "cell_type": "markdown",
      "metadata": {
        "id": "view-in-github",
        "colab_type": "text"
      },
      "source": [
        "<a href=\"https://colab.research.google.com/github/Sushan-2003/Python_train/blob/main/Python_Training.ipynb\" target=\"_parent\"><img src=\"https://colab.research.google.com/assets/colab-badge.svg\" alt=\"Open In Colab\"/></a>"
      ]
    },
    {
      "cell_type": "code",
      "execution_count": 1,
      "metadata": {
        "id": "ObOBAdJYYLpR",
        "colab": {
          "base_uri": "https://localhost:8080/"
        },
        "outputId": "d41d127a-8021-4e41-a1e9-fc59f38fe478"
      },
      "outputs": [
        {
          "output_type": "stream",
          "name": "stdout",
          "text": [
            "enter the total bill amount: 2000\n",
            "1600.0\n"
          ]
        }
      ],
      "source": [
        "#Q1\n",
        "bill_amt = float(input(\"enter the total bill amount: \"))\n",
        "if bill_amt > 1000:\n",
        "  bill_amt = bill_amt - 0.2*bill_amt\n",
        "elif bill_amt <= 1000 and bill_amt > 500:\n",
        "  bill_amt = bill_amt - 0.1*bill_amt\n",
        "else:\n",
        "  print(\"no discount applied\")\n",
        "print(bill_amt)"
      ]
    },
    {
      "cell_type": "code",
      "source": [
        "#Q2\n",
        "M = int(input(\"enter the marks: \"))\n",
        "if(M >= 90 and M <= 100):\n",
        "  print(\"Grade A\")\n",
        "elif(M >= 70 and M <= 89):\n",
        "  print(\"Grade B\")\n",
        "elif(M >= 50 and M <= 69):\n",
        "  print(\"Grade C\")\n",
        "elif(M >= 0 and M < 50):\n",
        "  print(\"Fail\")\n",
        "else:\n",
        "    print(\"Invalid score\")"
      ],
      "metadata": {
        "colab": {
          "base_uri": "https://localhost:8080/"
        },
        "id": "p8aobsli_esl",
        "outputId": "918cf913-d4c5-4196-cf4d-12f5ae6ed300"
      },
      "execution_count": 2,
      "outputs": [
        {
          "output_type": "stream",
          "name": "stdout",
          "text": [
            "enter the marks: 78\n",
            "Grade B\n"
          ]
        }
      ]
    },
    {
      "cell_type": "code",
      "source": [
        "#Q3\n",
        "X = int(input(\"Enter the age: \"))\n",
        "if(X < 13 and X >= 0):\n",
        "  print(\"Child\")\n",
        "elif(X >= 13 and X <= 19):\n",
        "  print(\"Teen\")\n",
        "elif(X >= 20 and X <= 59):\n",
        "  print(\"Adult\")\n",
        "else:\n",
        "  print(\"Senior\")"
      ],
      "metadata": {
        "colab": {
          "base_uri": "https://localhost:8080/"
        },
        "id": "6d-j6JyQAzgr",
        "outputId": "51f3572a-1311-4688-9caa-e4fcec468f31"
      },
      "execution_count": 3,
      "outputs": [
        {
          "output_type": "stream",
          "name": "stdout",
          "text": [
            "Enter the age: 55\n",
            "Adult\n"
          ]
        }
      ]
    },
    {
      "cell_type": "code",
      "source": [
        "#Q4\n",
        "N = int(input(\"Enter a number: \"))\n",
        "if N%2 == 0:\n",
        "  if N%5 == 0:\n",
        "    print(\"Even and divisible by 5\")\n",
        "  else :\n",
        "    print(\"Even and not divisible by 5\")\n",
        "else:\n",
        "  if N%5 == 0:\n",
        "    print(\"Odd and divisible by 5\")\n",
        "  else :\n",
        "    print(\"Odd and not divisible by 5\")"
      ],
      "metadata": {
        "colab": {
          "base_uri": "https://localhost:8080/"
        },
        "id": "eLHf0xorBmMK",
        "outputId": "e73ca9a1-4452-4551-a829-ede1f29b10aa"
      },
      "execution_count": 6,
      "outputs": [
        {
          "output_type": "stream",
          "name": "stdout",
          "text": [
            "Enter a number: 34\n",
            "Even and not divisible by 5\n"
          ]
        }
      ]
    },
    {
      "cell_type": "code",
      "source": [
        "#Q5\n",
        "Q = input(\"Enter username: \")\n",
        "if Q == \"john\" or Q == \"amy\" or Q == \"sita\":\n",
        "  print(\"login success\")\n",
        "else:\n",
        "  print(\"login failed\")\n"
      ],
      "metadata": {
        "colab": {
          "base_uri": "https://localhost:8080/"
        },
        "id": "U8mBpRLLCuLY",
        "outputId": "f15d7cf3-77c3-4918-cbbb-afad95a076a0"
      },
      "execution_count": 7,
      "outputs": [
        {
          "output_type": "stream",
          "name": "stdout",
          "text": [
            "Enter username: john\n",
            "login success\n"
          ]
        }
      ]
    },
    {
      "cell_type": "code",
      "source": [
        "#Q6\n",
        "a = int(input(\"Enter a: \"))\n",
        "b = int(input(\"Enter b: \"))\n",
        "if a > b:\n",
        "    print(\"a is greater.\")\n",
        "elif b > a:\n",
        "    print(\"b is greater.\")\n",
        "else:\n",
        "    print(\"a and b are equal.\")"
      ],
      "metadata": {
        "colab": {
          "base_uri": "https://localhost:8080/"
        },
        "id": "_Qy0LsdNDRe3",
        "outputId": "9b34cc81-4e65-4e78-efab-e11454dea3d1"
      },
      "execution_count": 8,
      "outputs": [
        {
          "output_type": "stream",
          "name": "stdout",
          "text": [
            "Enter a: 10\n",
            "Enter b: 15\n",
            "b is greater.\n"
          ]
        }
      ]
    },
    {
      "cell_type": "code",
      "source": [
        "#Q7\n",
        "age = int(input(\"Enter age: \"))\n",
        "if age >= 18:\n",
        "  print(\"Eligible for voting\")\n",
        "  if age >= 21:\n",
        "    print(\"Eligible for driving\")\n",
        "else:\n",
        "  print(\"Not eligible\")"
      ],
      "metadata": {
        "colab": {
          "base_uri": "https://localhost:8080/"
        },
        "id": "uzxUND7eEi4F",
        "outputId": "cd57fcc9-f3f3-4ba2-9b3c-4f776b6bb8a0"
      },
      "execution_count": 9,
      "outputs": [
        {
          "output_type": "stream",
          "name": "stdout",
          "text": [
            "Enter age: 24\n",
            "Eligible for voting\n",
            "Eligible for driving\n"
          ]
        }
      ]
    },
    {
      "cell_type": "code",
      "source": [
        "#Q8\n",
        "year = int(input(\"Enter a year: \"))\n",
        "if (year % 400 == 0) or (year % 4 == 0 and year % 100 != 0):\n",
        "    print(\"Leap year\")\n",
        "else:\n",
        "    print(\"Not a leap year\")"
      ],
      "metadata": {
        "colab": {
          "base_uri": "https://localhost:8080/"
        },
        "id": "qhl6gG-8Fwwo",
        "outputId": "3b39f9f4-b00f-4bf9-b752-d1bb6f6ee94c"
      },
      "execution_count": 10,
      "outputs": [
        {
          "output_type": "stream",
          "name": "stdout",
          "text": [
            "Enter a year: 2020\n",
            "Leap year\n"
          ]
        }
      ]
    },
    {
      "cell_type": "code",
      "source": [
        "#Q9\n",
        "a = \"sushan\"\n",
        "b = \"shradha\"\n",
        "c = \"harsh\"\n",
        "d = \"admin\"\n",
        "e = \"manager\"\n",
        "\n",
        "x = input(\"Enter username: \")\n",
        "y = input(\"Enter role: \")\n",
        "\n",
        "if x==a or x==b or x==c:\n",
        "  if y==d or y==e:\n",
        "    print(\"login success\")\n",
        "  else:\n",
        "    print(\"login failed\")\n",
        "else:\n",
        "  print(\"wrong username\")"
      ],
      "metadata": {
        "colab": {
          "base_uri": "https://localhost:8080/"
        },
        "id": "9_8vhFlFGZOz",
        "outputId": "3eb34587-af2e-4905-9aef-412477d0baea"
      },
      "execution_count": 12,
      "outputs": [
        {
          "output_type": "stream",
          "name": "stdout",
          "text": [
            "Enter username: sushan\n",
            "Enter role: manager\n",
            "login success\n"
          ]
        }
      ]
    },
    {
      "cell_type": "code",
      "source": [
        "#Q10\n",
        "x = float(input(\"Enter first number: \"))\n",
        "y = float(input(\"Enter second number: \"))\n",
        "\n",
        "if x==\"+\":\n",
        ""
      ],
      "metadata": {
        "id": "8wctFEhLIMn4"
      },
      "execution_count": null,
      "outputs": []
    }
  ]
}