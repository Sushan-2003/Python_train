{
  "nbformat": 4,
  "nbformat_minor": 0,
  "metadata": {
    "colab": {
      "provenance": [],
      "authorship_tag": "ABX9TyOSCY7j3Vu6YhtPw2uA0y7Z",
      "include_colab_link": true
    },
    "kernelspec": {
      "name": "python3",
      "display_name": "Python 3"
    },
    "language_info": {
      "name": "python"
    }
  },
  "cells": [
    {
      "cell_type": "markdown",
      "metadata": {
        "id": "view-in-github",
        "colab_type": "text"
      },
      "source": [
        "<a href=\"https://colab.research.google.com/github/Sushan-2003/Python_train/blob/main/Sushan_Nayak(21052289)_Python_Training.ipynb\" target=\"_parent\"><img src=\"https://colab.research.google.com/assets/colab-badge.svg\" alt=\"Open In Colab\"/></a>"
      ]
    },
    {
      "cell_type": "code",
      "execution_count": null,
      "metadata": {
        "id": "ObOBAdJYYLpR",
        "colab": {
          "base_uri": "https://localhost:8080/"
        },
        "outputId": "d41d127a-8021-4e41-a1e9-fc59f38fe478"
      },
      "outputs": [
        {
          "output_type": "stream",
          "name": "stdout",
          "text": [
            "enter the total bill amount: 2000\n",
            "1600.0\n"
          ]
        }
      ],
      "source": [
        "#Q1 Sushan Nayak(21052289)\n",
        "bill_amt = float(input(\"enter the total bill amount: \"))\n",
        "if bill_amt > 1000:\n",
        "  bill_amt = bill_amt - 0.2*bill_amt\n",
        "elif bill_amt <= 1000 and bill_amt > 500:\n",
        "  bill_amt = bill_amt - 0.1*bill_amt\n",
        "else:\n",
        "  print(\"no discount applied\")\n",
        "print(bill_amt)"
      ]
    },
    {
      "cell_type": "code",
      "source": [
        "#Q2\n",
        "M = int(input(\"enter the marks: \"))\n",
        "if(M >= 90 and M <= 100):\n",
        "  print(\"Grade A\")\n",
        "elif(M >= 70 and M <= 89):\n",
        "  print(\"Grade B\")\n",
        "elif(M >= 50 and M <= 69):\n",
        "  print(\"Grade C\")\n",
        "elif(M >= 0 and M < 50):\n",
        "  print(\"Fail\")\n",
        "else:\n",
        "    print(\"Invalid score\")"
      ],
      "metadata": {
        "colab": {
          "base_uri": "https://localhost:8080/"
        },
        "id": "p8aobsli_esl",
        "outputId": "918cf913-d4c5-4196-cf4d-12f5ae6ed300"
      },
      "execution_count": null,
      "outputs": [
        {
          "output_type": "stream",
          "name": "stdout",
          "text": [
            "enter the marks: 78\n",
            "Grade B\n"
          ]
        }
      ]
    },
    {
      "cell_type": "code",
      "source": [
        "#Q3\n",
        "X = int(input(\"Enter the age: \"))\n",
        "if(X < 13 and X >= 0):\n",
        "  print(\"Child\")\n",
        "elif(X >= 13 and X <= 19):\n",
        "  print(\"Teen\")\n",
        "elif(X >= 20 and X <= 59):\n",
        "  print(\"Adult\")\n",
        "else:\n",
        "  print(\"Senior\")"
      ],
      "metadata": {
        "colab": {
          "base_uri": "https://localhost:8080/"
        },
        "id": "6d-j6JyQAzgr",
        "outputId": "51f3572a-1311-4688-9caa-e4fcec468f31"
      },
      "execution_count": null,
      "outputs": [
        {
          "output_type": "stream",
          "name": "stdout",
          "text": [
            "Enter the age: 55\n",
            "Adult\n"
          ]
        }
      ]
    },
    {
      "cell_type": "code",
      "source": [
        "#Q4\n",
        "N = int(input(\"Enter a number: \"))\n",
        "if N%2 == 0:\n",
        "  if N%5 == 0:\n",
        "    print(\"Even and divisible by 5\")\n",
        "  else :\n",
        "    print(\"Even and not divisible by 5\")\n",
        "else:\n",
        "  if N%5 == 0:\n",
        "    print(\"Odd and divisible by 5\")\n",
        "  else :\n",
        "    print(\"Odd and not divisible by 5\")"
      ],
      "metadata": {
        "colab": {
          "base_uri": "https://localhost:8080/"
        },
        "id": "eLHf0xorBmMK",
        "outputId": "e73ca9a1-4452-4551-a829-ede1f29b10aa"
      },
      "execution_count": null,
      "outputs": [
        {
          "output_type": "stream",
          "name": "stdout",
          "text": [
            "Enter a number: 34\n",
            "Even and not divisible by 5\n"
          ]
        }
      ]
    },
    {
      "cell_type": "code",
      "source": [
        "#Q5\n",
        "Q = input(\"Enter username: \")\n",
        "if Q == \"john\" or Q == \"amy\" or Q == \"sita\":\n",
        "  print(\"login success\")\n",
        "else:\n",
        "  print(\"login failed\")\n"
      ],
      "metadata": {
        "colab": {
          "base_uri": "https://localhost:8080/"
        },
        "id": "U8mBpRLLCuLY",
        "outputId": "f15d7cf3-77c3-4918-cbbb-afad95a076a0"
      },
      "execution_count": null,
      "outputs": [
        {
          "output_type": "stream",
          "name": "stdout",
          "text": [
            "Enter username: john\n",
            "login success\n"
          ]
        }
      ]
    },
    {
      "cell_type": "code",
      "source": [
        "#Q6\n",
        "a = int(input(\"Enter a: \"))\n",
        "b = int(input(\"Enter b: \"))\n",
        "if a > b:\n",
        "    print(\"a is greater.\")\n",
        "elif b > a:\n",
        "    print(\"b is greater.\")\n",
        "else:\n",
        "    print(\"a and b are equal.\")"
      ],
      "metadata": {
        "colab": {
          "base_uri": "https://localhost:8080/"
        },
        "id": "_Qy0LsdNDRe3",
        "outputId": "9b34cc81-4e65-4e78-efab-e11454dea3d1"
      },
      "execution_count": null,
      "outputs": [
        {
          "output_type": "stream",
          "name": "stdout",
          "text": [
            "Enter a: 10\n",
            "Enter b: 15\n",
            "b is greater.\n"
          ]
        }
      ]
    },
    {
      "cell_type": "code",
      "source": [
        "#Q7\n",
        "age = int(input(\"Enter age: \"))\n",
        "if age >= 18:\n",
        "  print(\"Eligible for voting\")\n",
        "  if age >= 21:\n",
        "    print(\"Eligible for driving\")\n",
        "else:\n",
        "  print(\"Not eligible\")"
      ],
      "metadata": {
        "colab": {
          "base_uri": "https://localhost:8080/"
        },
        "id": "uzxUND7eEi4F",
        "outputId": "cd57fcc9-f3f3-4ba2-9b3c-4f776b6bb8a0"
      },
      "execution_count": null,
      "outputs": [
        {
          "output_type": "stream",
          "name": "stdout",
          "text": [
            "Enter age: 24\n",
            "Eligible for voting\n",
            "Eligible for driving\n"
          ]
        }
      ]
    },
    {
      "cell_type": "code",
      "source": [
        "#Q8\n",
        "year = int(input(\"Enter a year: \"))\n",
        "if (year % 400 == 0) or (year % 4 == 0 and year % 100 != 0):\n",
        "    print(\"Leap year\")\n",
        "else:\n",
        "    print(\"Not a leap year\")"
      ],
      "metadata": {
        "colab": {
          "base_uri": "https://localhost:8080/"
        },
        "id": "qhl6gG-8Fwwo",
        "outputId": "3b39f9f4-b00f-4bf9-b752-d1bb6f6ee94c"
      },
      "execution_count": null,
      "outputs": [
        {
          "output_type": "stream",
          "name": "stdout",
          "text": [
            "Enter a year: 2020\n",
            "Leap year\n"
          ]
        }
      ]
    },
    {
      "cell_type": "code",
      "source": [
        "#Q9\n",
        "a = \"sushan\"\n",
        "b = \"shradha\"\n",
        "c = \"harsh\"\n",
        "d = \"admin\"\n",
        "e = \"manager\"\n",
        "\n",
        "x = input(\"Enter username: \")\n",
        "y = input(\"Enter role: \")\n",
        "\n",
        "if x==a or x==b or x==c:\n",
        "  if y==d or y==e:\n",
        "    print(\"login success\")\n",
        "  else:\n",
        "    print(\"login failed\")\n",
        "else:\n",
        "  print(\"wrong username\")"
      ],
      "metadata": {
        "colab": {
          "base_uri": "https://localhost:8080/"
        },
        "id": "9_8vhFlFGZOz",
        "outputId": "3eb34587-af2e-4905-9aef-412477d0baea"
      },
      "execution_count": null,
      "outputs": [
        {
          "output_type": "stream",
          "name": "stdout",
          "text": [
            "Enter username: sushan\n",
            "Enter role: manager\n",
            "login success\n"
          ]
        }
      ]
    },
    {
      "cell_type": "code",
      "source": [
        "#Q10\n",
        "n=float(input(\"Enter n: \"))\n",
        "m=float(input(\"Enter m: \"))\n",
        "x=input(\"Enter operation: \")\n",
        "\n",
        "if x==\"+\":\n",
        "  n+=m\n",
        "elif x==\"-\":\n",
        "  n-=m\n",
        "elif x==\"/\" and m!=0:\n",
        "  n/=m\n",
        "elif x==\"*\":\n",
        "  n*=m\n",
        "print(n)"
      ],
      "metadata": {
        "colab": {
          "base_uri": "https://localhost:8080/"
        },
        "id": "8wctFEhLIMn4",
        "outputId": "8dd19d46-432b-4196-efb8-e50b78834585"
      },
      "execution_count": null,
      "outputs": [
        {
          "output_type": "stream",
          "name": "stdout",
          "text": [
            "Enter n: 5\n",
            "Enter m: 10\n",
            "Enter operation: +\n",
            "15.0\n"
          ]
        }
      ]
    },
    {
      "cell_type": "code",
      "source": [
        "#Q11\n",
        "t=int(input(\"Enter temperature: \"))\n",
        "if t>40:\n",
        "  print(\"Heat Alert\")\n",
        "elif t>30 and t<=40:\n",
        "  print(\"Warm\")\n",
        "elif t<=30:\n",
        "  print(\"Normal\")"
      ],
      "metadata": {
        "colab": {
          "base_uri": "https://localhost:8080/"
        },
        "id": "Z00gacL_Marp",
        "outputId": "17f46592-9716-4664-8418-d4a063ca74ea"
      },
      "execution_count": null,
      "outputs": [
        {
          "output_type": "stream",
          "name": "stdout",
          "text": [
            "Enter temperature: 42\n",
            "Heat Alert\n"
          ]
        }
      ]
    },
    {
      "cell_type": "code",
      "source": [
        "#Q12\n",
        "password = input(\"Enter your password: \")\n",
        "if len(password) >= 8 and '@' in password:\n",
        "    print(\"Strong password\")\n",
        "else:\n",
        "    print(\"Weak password\")"
      ],
      "metadata": {
        "colab": {
          "base_uri": "https://localhost:8080/"
        },
        "id": "1wk4CUntYxAU",
        "outputId": "bb37c99e-0580-4c5b-b608-31bcc39fbbe6"
      },
      "execution_count": null,
      "outputs": [
        {
          "output_type": "stream",
          "name": "stdout",
          "text": [
            "\n",
            "Enter your password: riya\n",
            "Weak password\n"
          ]
        }
      ]
    },
    {
      "cell_type": "code",
      "source": [
        "#Q13\n",
        "balance = float(input(\"Enter account balance: \"))\n",
        "amount = float(input(\"Enter withdrawal amount: \"))\n",
        "if amount <= balance and amount % 100 == 0:\n",
        "    print(\"Withdrawal successful\")\n",
        "else:\n",
        "    print(\"Withdrawal failed\")"
      ],
      "metadata": {
        "colab": {
          "base_uri": "https://localhost:8080/"
        },
        "id": "HG6-tqHjZKAw",
        "outputId": "6f5f776c-020e-489a-96eb-75fb9819f463"
      },
      "execution_count": null,
      "outputs": [
        {
          "output_type": "stream",
          "name": "stdout",
          "text": [
            "Enter account balance: 5000\n",
            "Enter withdrawal amount: 2000\n",
            "Withdrawal successful\n"
          ]
        }
      ]
    },
    {
      "cell_type": "code",
      "source": [
        "#Q14\n",
        "N=int(input(\"Enter a number: \"))\n",
        "if N%3==0:\n",
        "  if(N%5==0):\n",
        "    print(\"Divisible by both 3 and 5\")\n",
        "  else:\n",
        "    print(\"Divisible by 3\")\n",
        "else:\n",
        "  if(N%5==0):\n",
        "    print(\"Divisible by 5\")\n",
        "  else:\n",
        "    print(\"Not divisible by 3 and 5\")"
      ],
      "metadata": {
        "colab": {
          "base_uri": "https://localhost:8080/"
        },
        "id": "5DbLSfkMZ0lQ",
        "outputId": "fe11513e-201e-43d4-9ebf-4103f692f17d"
      },
      "execution_count": null,
      "outputs": [
        {
          "output_type": "stream",
          "name": "stdout",
          "text": [
            "Enter a number: 15\n",
            "Divisible by both 3 and 5\n"
          ]
        }
      ]
    },
    {
      "cell_type": "code",
      "source": [
        "#Q15\n",
        "a=\"pencil\"\n",
        "b=\"pen\"\n",
        "c=\"eraser\"\n",
        "p=input(\"Enter product: \")\n",
        "\n",
        "if p==a or p==b or p==c:\n",
        "  print(\"Product is available\")\n",
        "else:\n",
        "  print(\"Not Available\")"
      ],
      "metadata": {
        "colab": {
          "base_uri": "https://localhost:8080/"
        },
        "id": "4MnMn8RIZ90h",
        "outputId": "84c161b2-2242-4370-c8c1-098c78ff650d"
      },
      "execution_count": null,
      "outputs": [
        {
          "output_type": "stream",
          "name": "stdout",
          "text": [
            "Enter product: pen\n",
            "Product is available\n"
          ]
        }
      ]
    },
    {
      "cell_type": "code",
      "source": [
        "#Q16\n",
        "a=int(input(\"Enter side 1: \"))\n",
        "b=int(input(\"Enter side 2: \"))\n",
        "c=int(input(\"Enter side 3: \"))\n",
        "\n",
        "if a+b>c or b+c>a or c+a>b:\n",
        "  print(\"Valid trianlge\")\n",
        "else:\n",
        "  print(\"Not Valid\")"
      ],
      "metadata": {
        "colab": {
          "base_uri": "https://localhost:8080/"
        },
        "id": "MkKibnEIaKDi",
        "outputId": "377afdd6-e84b-4310-8ad4-9deb4b7a2be3"
      },
      "execution_count": null,
      "outputs": [
        {
          "output_type": "stream",
          "name": "stdout",
          "text": [
            "Enter side 1: 2\n",
            "Enter side 2: 4\n",
            "Enter side 3: 3\n",
            "Valid trianlge\n"
          ]
        }
      ]
    },
    {
      "cell_type": "code",
      "source": [
        "#Q17\n",
        "a=int(input(\"Enter a: \"))\n",
        "b=int(input(\"Enter b: \"))\n",
        "c=int(input(\"Enter c: \"))\n",
        "\n",
        "if a>b and a>c:\n",
        "  print(\"a is greatest\")\n",
        "if b>a and b>c:\n",
        "  print(\"b is greatest\")\n",
        "if c>a and c>b:\n",
        "  print(\"c is greatest\")"
      ],
      "metadata": {
        "colab": {
          "base_uri": "https://localhost:8080/"
        },
        "id": "xvYj3fi5aaeR",
        "outputId": "0df8d4b5-378f-4f91-b55e-8831052814d4"
      },
      "execution_count": null,
      "outputs": [
        {
          "output_type": "stream",
          "name": "stdout",
          "text": [
            "Enter a: 4\n",
            "Enter b: 5\n",
            "Enter c: 6\n",
            "c is greatest\n"
          ]
        }
      ]
    },
    {
      "cell_type": "code",
      "source": [
        "#Q18\n",
        "n=int(input(\"Enter marks: \"))\n",
        "\n",
        "if n>0 and n<=100:\n",
        "  print(\"Marks are valid\")\n",
        "else:\n",
        "  print(\"Marks are invalid\")"
      ],
      "metadata": {
        "colab": {
          "base_uri": "https://localhost:8080/"
        },
        "id": "8Lmv_TCXbCGM",
        "outputId": "b89c89a6-f866-418d-99d7-c446680beee4"
      },
      "execution_count": null,
      "outputs": [
        {
          "output_type": "stream",
          "name": "stdout",
          "text": [
            "Enter marks: 80\n",
            "Marks are valid\n"
          ]
        }
      ]
    },
    {
      "cell_type": "code",
      "source": [
        "#Q19\n",
        "u=\"john\"\n",
        "p=\"1234\"\n",
        "x=input(\"Enter Username: \")\n",
        "y=input(\"Enter Password: \")\n",
        "\n",
        "if x==u and p==y:\n",
        "  print(\"Login Success\")\n",
        "else:\n",
        "  print(\"Login Failed\")"
      ],
      "metadata": {
        "colab": {
          "base_uri": "https://localhost:8080/"
        },
        "id": "COv48Qq4bKuD",
        "outputId": "dc5a1203-b1b0-48ea-ba85-3945f2eea477"
      },
      "execution_count": null,
      "outputs": [
        {
          "output_type": "stream",
          "name": "stdout",
          "text": [
            "Enter Username: john\n",
            "Enter Password: 1234\n",
            "Login Success\n"
          ]
        }
      ]
    },
    {
      "cell_type": "code",
      "source": [
        "#Q20\n",
        "n=int(input(\"Enter bill units: \"))\n",
        "if n>0 and n<=100:\n",
        "  n*=5\n",
        "elif n>100 and n<200:\n",
        "  n*=7\n",
        "elif n>=200:\n",
        "  n*=10\n",
        "print(n)"
      ],
      "metadata": {
        "colab": {
          "base_uri": "https://localhost:8080/"
        },
        "id": "H8dVab0gb14o",
        "outputId": "172ef349-d935-4d8e-b47d-297210ea2e79"
      },
      "execution_count": null,
      "outputs": [
        {
          "output_type": "stream",
          "name": "stdout",
          "text": [
            "Enter bill units: 200\n",
            "2000\n"
          ]
        }
      ]
    }
  ]
}